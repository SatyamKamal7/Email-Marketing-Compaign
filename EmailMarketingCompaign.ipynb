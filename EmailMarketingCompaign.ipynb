{
 "cells": [
  {
   "cell_type": "code",
   "execution_count": 1,
   "id": "ff445520-f62f-4758-8f67-dbf0b3020991",
   "metadata": {},
   "outputs": [
    {
     "data": {
      "text/plain": [
       "(   email_id   email_text email_version  hour    weekday user_country  \\\n",
       " 0     85120  short_email  personalized     2     Sunday           US   \n",
       " 1    966622   long_email  personalized    12     Sunday           UK   \n",
       " 2    777221   long_email  personalized    11  Wednesday           US   \n",
       " 3    493711  short_email       generic     6     Monday           UK   \n",
       " 4    106887   long_email       generic    14     Monday           US   \n",
       " \n",
       "    user_past_purchases  \n",
       " 0                    5  \n",
       " 1                    2  \n",
       " 2                    2  \n",
       " 3                    1  \n",
       " 4                    6  ,\n",
       "    email_id\n",
       " 0    284534\n",
       " 1    609056\n",
       " 2    220820\n",
       " 3    905936\n",
       " 4    164034,\n",
       "    email_id\n",
       " 0    609056\n",
       " 1    870980\n",
       " 2    935124\n",
       " 3    158501\n",
       " 4    177561)"
      ]
     },
     "execution_count": 1,
     "metadata": {},
     "output_type": "execute_result"
    }
   ],
   "source": [
    "import pandas as pd\n",
    "\n",
    "# Loading datasets\n",
    "email_df = pd.read_csv(\"C:/Users/satyam kamal/Downloads/email_table.csv\")\n",
    "opened_df = pd.read_csv(\"C:/Users/satyam kamal/Downloads/email_opened_table.csv\")\n",
    "clicked_df = pd.read_csv(\"C:/Users/satyam kamal/Downloads/link_clicked_table.csv\")\n",
    "\n",
    "# Displaying the first few rows of each dataframe\n",
    "email_df.head(), opened_df.head(), clicked_df.head()"
   ]
  },
  {
   "cell_type": "code",
   "execution_count": 3,
   "id": "fc203932-333f-42fc-827e-24fde8913ff2",
   "metadata": {},
   "outputs": [
    {
     "data": {
      "text/plain": [
       "(10.345, 2.119)"
      ]
     },
     "execution_count": 3,
     "metadata": {},
     "output_type": "execute_result"
    }
   ],
   "source": [
    "# Merging opened and clicked flags with the main email data\n",
    "email_df[\"opened\"] = email_df[\"email_id\"].isin(opened_df[\"email_id\"]).astype(int)\n",
    "email_df[\"clicked\"] = email_df[\"email_id\"].isin(clicked_df[\"email_id\"]).astype(int)\n",
    "\n",
    "# Calculate performance metrics\n",
    "total_emails = len(email_df)\n",
    "opened_percentage = email_df[\"opened\"].mean() * 100\n",
    "clicked_percentage = email_df[\"clicked\"].mean() * 100\n",
    "\n",
    "opened_percentage, clicked_percentage"
   ]
  },
  {
   "cell_type": "code",
   "execution_count": 17,
   "id": "4e08396f-919e-4cfa-9a4a-80ab3e1e7fbb",
   "metadata": {},
   "outputs": [
    {
     "data": {
      "image/png": "[encoded data removed]",
      "text/plain": [
       "<Figure size 640x480 with 1 Axes>"
      ]
     },
     "metadata": {},
     "output_type": "display_data"
    }
   ],
   "source": [
    "import seaborn as sns\n",
    "import matplotlib.pyplot as plt\n",
    "\n",
    "# CTR by email version\n",
    "sns.barplot(data=email_df, x=\"email_version\", y=\"clicked\")\n",
    "plt.title(\"Click Rate by Email Version\")\n",
    "plt.ylabel(\"Click Rate\")\n",
    "plt.xlabel(\"Email Version\")\n",
    "plt.show()"
   ]
  },
  {
   "cell_type": "code",
   "execution_count": 19,
   "id": "52db616c-4c3c-43de-8388-e972da301f05",
   "metadata": {},
   "outputs": [
    {
     "name": "stdout",
     "output_type": "stream",
     "text": [
      "              precision    recall  f1-score   support\n",
      "\n",
      "           0       0.98      1.00      0.99     19576\n",
      "           1       0.06      0.01      0.02       424\n",
      "\n",
      "    accuracy                           0.98     20000\n",
      "   macro avg       0.52      0.50      0.50     20000\n",
      "weighted avg       0.96      0.98      0.97     20000\n",
      "\n",
      "ROC AUC Score: 0.578\n"
     ]
    }
   ],
   "source": [
    "\n",
    "\n",
    "from sklearn.model_selection import train_test_split\n",
    "from sklearn.ensemble import RandomForestClassifier\n",
    "from sklearn.metrics import classification_report, roc_auc_score\n",
    "from sklearn.preprocessing import LabelEncoder\n",
    "\n",
    "# Encode categorical variables\n",
    "df = email_df.copy()\n",
    "label_encoders = {}\n",
    "for col in [\"email_text\", \"email_version\", \"weekday\", \"user_country\"]:\n",
    "    le = LabelEncoder()\n",
    "    df[col] = le.fit_transform(df[col])\n",
    "    label_encoders[col] = le\n",
    "\n",
    "# Define features and target\n",
    "features = [\"email_text\", \"email_version\", \"hour\", \"weekday\", \"user_country\", \"user_past_purchases\"]\n",
    "X = df[features]\n",
    "y = df[\"clicked\"]\n",
    "\n",
    "# Splitting into train and test \n",
    "X_train, X_test, y_train, y_test = train_test_split(X, y, test_size=0.2, stratify=y, random_state=42)\n",
    "\n",
    "# Train a Random Forest model\n",
    "model = RandomForestClassifier(n_estimators=100, random_state=42)\n",
    "model.fit(X_train, y_train)\n",
    "\n",
    "# Predict and evaluate\n",
    "y_pred = model.predict(X_test)\n",
    "y_prob = model.predict_proba(X_test)[:, 1]\n",
    "\n",
    "report = classification_report(y_test, y_pred)\n",
    "roc_auc = roc_auc_score(y_test, y_prob)\n",
    "print(report)\n",
    "print(f\"ROC AUC Score: {roc_auc:.3f}\")"
   ]
  },
  {
   "cell_type": "code",
   "execution_count": 21,
   "id": "644f1644-e5ee-4a47-804e-c43043451be3",
   "metadata": {},
   "outputs": [
    {
     "name": "stdout",
     "output_type": "stream",
     "text": [
      "Original CTR: 0.0212\n",
      "CTR using model targeting (top 20%): 0.0912\n"
     ]
    }
   ],
   "source": [
    "# Adding predicted probabilities to full dataset\n",
    "df[\"predicted_click_proba\"] = model.predict_proba(X)[:, 1]\n",
    "\n",
    "# Sending emails to top 20% most likely to click\n",
    "top_20_cutoff = df[\"predicted_click_proba\"].quantile(0.80)\n",
    "df[\"model_selected\"] = df[\"predicted_click_proba\"] >= top_20_cutoff\n",
    "\n",
    "# Compare actual click-through rates\n",
    "original_ctr = df[\"clicked\"].mean()\n",
    "model_ctr = df[df[\"model_selected\"]][\"clicked\"].mean()\n",
    "print(f\"Original CTR: {original_ctr:.4f}\")\n",
    "print(f\"CTR using model targeting (top 20%): {model_ctr:.4f}\")"
   ]
  },
  {
   "cell_type": "code",
   "execution_count": 23,
   "id": "412264bc-359a-41df-84b7-808cb233250f",
   "metadata": {},
   "outputs": [
    {
     "data": {
      "image/png": "[encoded data removed]",
      "text/plain": [
       "<Figure size 640x480 with 1 Axes>"
      ]
     },
     "metadata": {},
     "output_type": "display_data"
    }
   ],
   "source": [
    "import seaborn as sns\n",
    "import matplotlib.pyplot as plt\n",
    "\n",
    "# Click-through rate by user country\n",
    "sns.barplot(data=email_df, x=\"user_country\", y=\"clicked\")\n",
    "plt.title(\"CTR by Country\")\n",
    "plt.show()\n"
   ]
  },
  {
   "cell_type": "code",
   "execution_count": null,
   "id": "b9e97cde-2f17-4a56-86fe-6cf8ca809f44",
   "metadata": {},
   "outputs": [],
   "source": []
  }
 ],
 "metadata": {
  "kernelspec": {
   "display_name": "Python 3 (ipykernel)",
   "language": "python",
   "name": "python3"
  },
  "language_info": {
   "codemirror_mode": {
    "name": "ipython",
    "version": 3
   },
   "file_extension": ".py",
   "mimetype": "text/x-python",
   "name": "python",
   "nbconvert_exporter": "python",
   "pygments_lexer": "ipython3",
   "version": "3.12.7"
  }
 },
 "nbformat": 4,
 "nbformat_minor": 5
}
