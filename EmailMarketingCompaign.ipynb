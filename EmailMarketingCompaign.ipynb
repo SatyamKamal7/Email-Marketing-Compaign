{
 "cells": [
  {
   "cell_type": "code",
   "execution_count": 1,
   "id": "ff445520-f62f-4758-8f67-dbf0b3020991",
   "metadata": {},
   "outputs": [
    {
     "data": {
      "text/plain": [
       "(   email_id   email_text email_version  hour    weekday user_country  \\\n",
       " 0     85120  short_email  personalized     2     Sunday           US   \n",
       " 1    966622   long_email  personalized    12     Sunday           UK   \n",
       " 2    777221   long_email  personalized    11  Wednesday           US   \n",
       " 3    493711  short_email       generic     6     Monday           UK   \n",
       " 4    106887   long_email       generic    14     Monday           US   \n",
       " \n",
       "    user_past_purchases  \n",
       " 0                    5  \n",
       " 1                    2  \n",
       " 2                    2  \n",
       " 3                    1  \n",
       " 4                    6  ,\n",
       "    email_id\n",
       " 0    284534\n",
       " 1    609056\n",
       " 2    220820\n",
       " 3    905936\n",
       " 4    164034,\n",
       "    email_id\n",
       " 0    609056\n",
       " 1    870980\n",
       " 2    935124\n",
       " 3    158501\n",
       " 4    177561)"
      ]
     },
     "execution_count": 1,
     "metadata": {},
     "output_type": "execute_result"
    }
   ],
   "source": [
    "import pandas as pd\n",
    "\n",
    "# Load the datasets\n",
    "email_df = pd.read_csv(\"C:/Users/satyam kamal/Downloads/email_table.csv\")\n",
    "opened_df = pd.read_csv(\"C:/Users/satyam kamal/Downloads/email_opened_table.csv\")\n",
    "clicked_df = pd.read_csv(\"C:/Users/satyam kamal/Downloads/link_clicked_table.csv\")\n",
    "\n",
    "# Display the first few rows of each dataframe\n",
    "email_df.head(), opened_df.head(), clicked_df.head()"
   ]
  },
  {
   "cell_type": "code",
   "execution_count": 3,
   "id": "fc203932-333f-42fc-827e-24fde8913ff2",
   "metadata": {},
   "outputs": [
    {
     "data": {
      "text/plain": [
       "(10.345, 2.119)"
      ]
     },
     "execution_count": 3,
     "metadata": {},
     "output_type": "execute_result"
    }
   ],
   "source": [
    "# Merge opened and clicked flags with the main email data\n",
    "email_df[\"opened\"] = email_df[\"email_id\"].isin(opened_df[\"email_id\"]).astype(int)\n",
    "email_df[\"clicked\"] = email_df[\"email_id\"].isin(clicked_df[\"email_id\"]).astype(int)\n",
    "\n",
    "# Calculate performance metrics\n",
    "total_emails = len(email_df)\n",
    "opened_percentage = email_df[\"opened\"].mean() * 100\n",
    "clicked_percentage = email_df[\"clicked\"].mean() * 100\n",
    "\n",
    "opened_percentage, clicked_percentage"
   ]
  },
  {
   "cell_type": "code",
   "execution_count": 5,
   "id": "52db616c-4c3c-43de-8388-e972da301f05",
   "metadata": {},
   "outputs": [
    {
     "data": {
      "text/plain": [
       "({'0': {'precision': 0.9789304705528243,\n",
       "   'recall': 0.9968328565590518,\n",
       "   'f1-score': 0.9878005568210579,\n",
       "   'support': 19576.0},\n",
       "  '1': {'precision': 0.06060606060606061,\n",
       "   'recall': 0.009433962264150943,\n",
       "   'f1-score': 0.0163265306122449,\n",
       "   'support': 424.0},\n",
       "  'accuracy': 0.9759,\n",
       "  'macro avg': {'precision': 0.5197682655794424,\n",
       "   'recall': 0.5031334094116015,\n",
       "   'f1-score': 0.5020635437166514,\n",
       "   'support': 20000.0},\n",
       "  'weighted avg': {'precision': 0.9594619930619529,\n",
       "   'recall': 0.9759,\n",
       "   'f1-score': 0.9672053074654312,\n",
       "   'support': 20000.0}},\n",
       " 0.5775243535596148)"
      ]
     },
     "execution_count": 5,
     "metadata": {},
     "output_type": "execute_result"
    }
   ],
   "source": [
    "\n",
    "\n",
    "from sklearn.model_selection import train_test_split\n",
    "from sklearn.ensemble import RandomForestClassifier\n",
    "from sklearn.metrics import classification_report, roc_auc_score\n",
    "from sklearn.preprocessing import LabelEncoder\n",
    "\n",
    "# Encode categorical variables\n",
    "df = email_df.copy()\n",
    "label_encoders = {}\n",
    "for col in [\"email_text\", \"email_version\", \"weekday\", \"user_country\"]:\n",
    "    le = LabelEncoder()\n",
    "    df[col] = le.fit_transform(df[col])\n",
    "    label_encoders[col] = le\n",
    "\n",
    "# Define features and target\n",
    "features = [\"email_text\", \"email_version\", \"hour\", \"weekday\", \"user_country\", \"user_past_purchases\"]\n",
    "X = df[features]\n",
    "y = df[\"clicked\"]\n",
    "\n",
    "# Split into train and test sets\n",
    "X_train, X_test, y_train, y_test = train_test_split(X, y, test_size=0.2, stratify=y, random_state=42)\n",
    "\n",
    "# Train a Random Forest model\n",
    "model = RandomForestClassifier(n_estimators=100, random_state=42)\n",
    "model.fit(X_train, y_train)\n",
    "\n",
    "# Predict and evaluate\n",
    "y_pred = model.predict(X_test)\n",
    "y_prob = model.predict_proba(X_test)[:, 1]\n",
    "\n",
    "report = classification_report(y_test, y_pred, output_dict=True)\n",
    "roc_auc = roc_auc_score(y_test, y_prob)\n",
    "\n",
    "report, roc_auc"
   ]
  },
  {
   "cell_type": "code",
   "execution_count": 7,
   "id": "644f1644-e5ee-4a47-804e-c43043451be3",
   "metadata": {},
   "outputs": [
    {
     "data": {
      "text/plain": [
       "(0.02119, 0.09120971324218943)"
      ]
     },
     "execution_count": 7,
     "metadata": {},
     "output_type": "execute_result"
    }
   ],
   "source": [
    "# Add predicted probabilities to the full dataset\n",
    "df[\"predicted_click_proba\"] = model.predict_proba(X)[:, 1]\n",
    "\n",
    "# Simulate sending emails to top 20% most likely to click\n",
    "top_20_cutoff = df[\"predicted_click_proba\"].quantile(0.80)\n",
    "df[\"model_selected\"] = df[\"predicted_click_proba\"] >= top_20_cutoff\n",
    "\n",
    "# Compare actual click-through rates\n",
    "original_ctr = df[\"clicked\"].mean()\n",
    "model_ctr = df[df[\"model_selected\"]][\"clicked\"].mean()\n",
    "\n",
    "original_ctr, model_ctr"
   ]
  },
  {
   "cell_type": "code",
   "execution_count": 13,
   "id": "eeaa8c07-12f0-4b69-987c-9dd23dca417d",
   "metadata": {},
   "outputs": [
    {
     "data": {
      "text/plain": [
       "'C:/Users/satyam kamal/Documents/EmailMarketingCompaign.ipynb'"
      ]
     },
     "execution_count": 13,
     "metadata": {},
     "output_type": "execute_result"
    }
   ],
   "source": [
    "from nbformat import v4 as nbf\n",
    "from pathlib import Path\n",
    "\n",
    "# Create notebook cells\n",
    "cells = []\n",
    "\n",
    "# Intro markdown\n",
    "cells.append(nbf.new_markdown_cell(\"# 📧 Email Marketing Campaign Analysis\\nThis notebook analyzes an email marketing campaign and builds a model to optimize link click-through rates.\"))\n",
    "\n",
    "# Load libraries and data\n",
    "cells.append(nbf.new_code_cell(\"\"\"\\\n",
    "import pandas as pd\n",
    "from sklearn.model_selection import train_test_split\n",
    "from sklearn.ensemble import RandomForestClassifier\n",
    "from sklearn.metrics import classification_report, roc_auc_score\n",
    "from sklearn.preprocessing import LabelEncoder\n",
    "\n",
    "# Load data\n",
    "email_df = pd.read_csv(\"email_table.csv\")\n",
    "opened_df = pd.read_csv(\"email_opened_table.csv\")\n",
    "clicked_df = pd.read_csv(\"link_clicked_table.csv\")\n",
    "\n",
    "# Merge open and click labels\n",
    "email_df[\"opened\"] = email_df[\"email_id\"].isin(opened_df[\"email_id\"]).astype(int)\n",
    "email_df[\"clicked\"] = email_df[\"email_id\"].isin(clicked_df[\"email_id\"]).astype(int)\n",
    "\n",
    "# Basic performance\n",
    "opened_percentage = email_df[\"opened\"].mean() * 100\n",
    "clicked_percentage = email_df[\"clicked\"].mean() * 100\n",
    "print(f\"Open Rate: {opened_percentage:.2f}%\\\\nClick Rate: {clicked_percentage:.2f}%\")\n",
    "\"\"\"))\n",
    "\n",
    "# Modeling\n",
    "cells.append(nbf.new_code_cell(\"\"\"\\\n",
    "# Encode categorical variables\n",
    "df = email_df.copy()\n",
    "label_encoders = {}\n",
    "for col in [\"email_text\", \"email_version\", \"weekday\", \"user_country\"]:\n",
    "    le = LabelEncoder()\n",
    "    df[col] = le.fit_transform(df[col])\n",
    "    label_encoders[col] = le\n",
    "\n",
    "# Feature selection\n",
    "features = [\"email_text\", \"email_version\", \"hour\", \"weekday\", \"user_country\", \"user_past_purchases\"]\n",
    "X = df[features]\n",
    "y = df[\"clicked\"]\n",
    "\n",
    "# Train-test split\n",
    "X_train, X_test, y_train, y_test = train_test_split(X, y, test_size=0.2, stratify=y, random_state=42)\n",
    "\n",
    "# Model training\n",
    "model = RandomForestClassifier(n_estimators=100, random_state=42)\n",
    "model.fit(X_train, y_train)\n",
    "\n",
    "# Evaluation\n",
    "y_pred = model.predict(X_test)\n",
    "y_prob = model.predict_proba(X_test)[:, 1]\n",
    "\n",
    "report = classification_report(y_test, y_pred)\n",
    "roc_auc = roc_auc_score(y_test, y_prob)\n",
    "print(report)\n",
    "print(f\"ROC AUC Score: {roc_auc:.3f}\")\n",
    "\"\"\"))\n",
    "\n",
    "# Uplift estimation\n",
    "cells.append(nbf.new_code_cell(\"\"\"\\\n",
    "# Predict on full set\n",
    "df[\"predicted_click_proba\"] = model.predict_proba(X)[:, 1]\n",
    "\n",
    "# Select top 20% likely clickers\n",
    "top_20_cutoff = df[\"predicted_click_proba\"].quantile(0.80)\n",
    "df[\"model_selected\"] = df[\"predicted_click_proba\"] >= top_20_cutoff\n",
    "\n",
    "# Compare CTR\n",
    "original_ctr = df[\"clicked\"].mean()\n",
    "model_ctr = df[df[\"model_selected\"]][\"clicked\"].mean()\n",
    "\n",
    "print(f\"Original CTR: {original_ctr:.4f}\\\\nCTR using model targeting (top 20%): {model_ctr:.4f}\")\n",
    "\"\"\"))\n",
    "\n",
    "# Create and save notebook\n",
    "nb = nbf.new_notebook(cells=cells)\n",
    "output_path = \"C:/Users/satyam kamal/Documents/EmailMarketingCompaign.ipynb\"\n",
    "with open(output_path, \"w\", encoding=\"utf-8\") as f:\n",
    "    f.write(nbf.writes(nb))\n",
    "\n",
    "output_path\n"
   ]
  },
  {
   "cell_type": "code",
   "execution_count": null,
   "id": "412264bc-359a-41df-84b7-808cb233250f",
   "metadata": {},
   "outputs": [],
   "source": []
  }
 ],
 "metadata": {
  "kernelspec": {
   "display_name": "Python 3 (ipykernel)",
   "language": "python",
   "name": "python3"
  },
  "language_info": {
   "codemirror_mode": {
    "name": "ipython",
    "version": 3
   },
   "file_extension": ".py",
   "mimetype": "text/x-python",
   "name": "python",
   "nbconvert_exporter": "python",
   "pygments_lexer": "ipython3",
   "version": "3.12.7"
  }
 },
 "nbformat": 4,
 "nbformat_minor": 5
}
